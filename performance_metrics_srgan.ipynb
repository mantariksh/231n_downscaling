{
 "cells": [
  {
   "cell_type": "code",
   "execution_count": 74,
   "metadata": {},
   "outputs": [],
   "source": [
    "import torch\n",
    "import torch.nn as nn\n",
    "import torch.optim as optim\n",
    "import torch.utils.data as data\n",
    "from torch.utils.data import DataLoader, sampler, TensorDataset\n",
    "from torch.utils.data import sampler\n",
    "\n",
    "import torch.nn.functional as F\n",
    "\n",
    "import torchvision.datasets as dset\n",
    "import torchvision.transforms as T\n",
    "\n",
    "import matplotlib.pyplot as plt\n",
    "\n",
    "import numpy as np\n",
    "import pickle\n",
    "import os\n",
    "from PIL import Image\n",
    "\n",
    "from scipy.interpolate import interp2d\n",
    "from scipy.interpolate import RectBivariateSpline\n",
    "from scipy.ndimage.filters import gaussian_filter\n",
    "\n",
    "import h5py\n",
    "\n",
    "from time import time\n",
    "\n",
    "from classes import *"
   ]
  },
  {
   "cell_type": "code",
   "execution_count": 75,
   "metadata": {},
   "outputs": [
    {
     "name": "stdout",
     "output_type": "stream",
     "text": [
      "using device: cuda\n"
     ]
    }
   ],
   "source": [
    "# From Assignment 2 PyTorch Notebook\n",
    "USE_GPU = True\n",
    "\n",
    "dtype = torch.float32 # we will be using float throughout this tutorial\n",
    "\n",
    "if USE_GPU and torch.cuda.is_available():\n",
    "    device = torch.device('cuda')\n",
    "else:\n",
    "    device = torch.device('cpu')\n",
    "\n",
    "# Constant to control how frequently we print train loss\n",
    "print_every = 1\n",
    "\n",
    "print('using device:', device)"
   ]
  },
  {
   "cell_type": "code",
   "execution_count": 76,
   "metadata": {},
   "outputs": [],
   "source": [
    "data_directory = '.'\n",
    "\n",
    "##########################################################################################\n",
    "#                                  BATCH_SIZE PARAMETER\n",
    "BATCH_SIZE = 1000\n",
    "##########################################################################################\n",
    "\n",
    "\n",
    "# sr_train = SR_Dataset(data_directory, train=TRAIN_MODE)\n",
    "# loader_train = DataLoader(sr_train, batch_size=BATCH_SIZE, \n",
    "#                           sampler=sampler.SubsetRandomSampler(range(TRAIN_FILES*YEARS_PER_FILE*IMGS_PER_YEAR)),\n",
    "#                          num_workers = 4)\n",
    "\n",
    "\n",
    "sr_val = SR_Dataset(data_directory, train=VAL_MODE)\n",
    "loader_val = DataLoader(sr_val, batch_size=BATCH_SIZE, \n",
    "                          sampler=sampler.SubsetRandomSampler(range(VAL_FILES*YEARS_PER_FILE*IMGS_PER_YEAR)),\n",
    "                         num_workers = 4)"
   ]
  },
  {
   "cell_type": "code",
   "execution_count": null,
   "metadata": {},
   "outputs": [],
   "source": []
  },
  {
   "cell_type": "code",
   "execution_count": 77,
   "metadata": {},
   "outputs": [],
   "source": [
    "# input shape: (days, height, width). calculates rmse of each pixel.\n",
    "# or input shape: (N, C, H, W), same thing.\n",
    "def rmse_pixel(gen, target):\n",
    "    return np.sqrt(np.mean(np.square(gen - target), axis = 0))\n"
   ]
  },
  {
   "cell_type": "code",
   "execution_count": 78,
   "metadata": {},
   "outputs": [],
   "source": [
    "# y, y_pred: (N, C, H, W)\n",
    "def get_extremes(y, y_pred, quantiles, metric_fn):\n",
    "    output = np.zeros((2, len(quantiles), 2)) # channel, quantile, [mean/variance]\n",
    "    for q_index, q in enumerate(quantiles):\n",
    "        y_precip = y[:, 0, :, :]\n",
    "        y_pred_precip = y_pred[:, 0, :, :]\n",
    "        y_temp = y[:, 1, :, :]\n",
    "        y_pred_temp = y_pred[:, 1, :, :]\n",
    "        \n",
    "        H = y.shape[2]\n",
    "        W = y.shape[3]\n",
    "        # [precip|temp]_indices are (num_values*H*W, 3) arrays, where num_values is the number of values\n",
    "        # above this percentile, and the 3 columns correspodn to the three coordinates (see the for loops)\n",
    "        # below\n",
    "        precip_indices = np.array(np.where(y_precip > np.percentile(a = y_precip, q = q, axis = 0))).T\n",
    "        temp_indices = np.array(np.where(y_temp > np.percentile(a = y_temp, q = q, axis = 0))).T\n",
    "        num_values = int(precip_indices.shape[0] / (H * W)) + 1\n",
    "        y_precip_extreme = np.zeros((num_values, H, W))\n",
    "        y_pred_precip_extreme = np.zeros((num_values, H, W))\n",
    "        y_temp_extreme = np.zeros((num_values, H, W))\n",
    "        y_pred_temp_extreme = np.zeros((num_values, H, W))\n",
    "#         if num_values <= 2: continue\n",
    "        # coordinates aren't in order of pixel, so keep track of how many values we've layered\n",
    "        # for each pixel so far\n",
    "        counters = np.zeros((H, W), dtype = int)\n",
    "        for i, j, k in precip_indices:\n",
    "            y_precip_extreme[counters[j, k], j, k] = y_precip[i, j, k]\n",
    "            y_pred_precip_extreme[counters[j, k], j, k] = y_pred_precip[i, j, k]\n",
    "            counters[j, k] += 1\n",
    "        counters = np.zeros((H, W), dtype = int)\n",
    "        for i, j, k in temp_indices:\n",
    "            y_temp_extreme[counters[j, k], j, k] = y_temp[i, j, k]\n",
    "            y_pred_temp_extreme[counters[j, k], j, k] = y_pred_temp[i, j, k]\n",
    "            counters[j, k] += 1\n",
    "\n",
    "        metric_precip = metric_fn(y_precip_extreme, y_pred_precip_extreme)\n",
    "        metric_temp = metric_fn(y_temp_extreme, y_pred_temp_extreme)\n",
    "        output[0, q_index, 0] = np.mean(metric_precip)\n",
    "        output[0, q_index, 1] = np.var(metric_precip)\n",
    "        output[1, q_index, 0] = np.mean(metric_temp)\n",
    "        output[1, q_index, 1] = np.var(metric_temp)\n",
    "    return output"
   ]
  },
  {
   "cell_type": "code",
   "execution_count": 79,
   "metadata": {},
   "outputs": [],
   "source": [
    "# G is generic for any image-generating model; could be SRCNN too\n",
    "def get_metrics(loader, G):\n",
    "    G = G.to(device=device)\n",
    "    G.eval() # set model to evaluation mode\n",
    "    \n",
    "    # initialize metrics\n",
    "    final_rmse = None\n",
    "    extreme_quantiles = [i / 10 for i in range(900, 1000, 5)]\n",
    "    extreme_metrics = [] # list will be populated with metrics from each batch\n",
    "    count = 0\n",
    "    \n",
    "    # calculate all metrics in one pass through val set\n",
    "    with torch.no_grad():\n",
    "        count = 0\n",
    "        for x, y in loader:\n",
    "            x = x.to(device=device, dtype=dtype) # move to device, e.g. GPU\n",
    "            y = y.to(device=device, dtype=dtype)\n",
    "            y_pred = G(x)\n",
    "            y = y.cpu().numpy()\n",
    "            y_pred = y_pred.cpu().numpy()\n",
    "            if final_rmse is not None:\n",
    "                final_rmse += rmse_pixel(y, y_pred)\n",
    "            else:\n",
    "                final_rmse = rmse_pixel(y, y_pred)\n",
    "            extreme_metrics.append(get_extremes(y, y_pred, extreme_quantiles, rmse_pixel))\n",
    "            count += 1\n",
    "            print('Done with batch %d.' % count)\n",
    "        final_rmse /= count\n",
    "        # num_batches, channel, quantile, [mean|variance]\n",
    "        extreme_metrics = np.array(extreme_metrics)\n",
    "        # channel, quantile, [mean|variance]\n",
    "        extreme_metrics = np.mean(extreme_metrics, axis = 0)\n",
    "    return final_rmse, extreme_metrics"
   ]
  },
  {
   "cell_type": "code",
   "execution_count": 80,
   "metadata": {},
   "outputs": [
    {
     "name": "stdout",
     "output_type": "stream",
     "text": [
      "Done with batch 1.\n",
      "Done with batch 2.\n",
      "Done with batch 3.\n",
      "Done with batch 4.\n",
      "Done with batch 5.\n",
      "Done with batch 6.\n",
      "Done with batch 7.\n",
      "Done with batch 8.\n"
     ]
    }
   ],
   "source": [
    "G = Generator(num_channels=3)\n",
    "\n",
    "# Load the states from training on full dataset\n",
    "G.load_state_dict(torch.load('SRGAN_G_06_05_best_precip.pt'))\n",
    "\n",
    "final_rmse, extreme_metrics = get_metrics(loader_val, G)"
   ]
  },
  {
   "cell_type": "code",
   "execution_count": 85,
   "metadata": {},
   "outputs": [
    {
     "data": {
      "image/png": "[encoded data removed]",
      "text/plain": [
       "<matplotlib.figure.Figure at 0x7f8919617b00>"
      ]
     },
     "metadata": {},
     "output_type": "display_data"
    }
   ],
   "source": [
    "extreme_quantiles = [i / 10 for i in range(900, 1000, 5)]\n",
    "# quantile, [mean|variance]\n",
    "extreme_metrics_precip = extreme_metrics[0, :, :]\n",
    "plt.fill_between(\n",
    "    extreme_quantiles, \n",
    "    extreme_metrics_precip[:, 0] - np.sqrt(extreme_metrics_precip[:, 1]),\n",
    "    extreme_metrics_precip[:, 0] + np.sqrt(extreme_metrics_precip[:, 1]),\n",
    ")\n",
    "plt.plot(extreme_quantiles, extreme_metrics_precip[:, 0], 'k')\n",
    "plt.xlabel('Quantile')\n",
    "plt.ylabel('RMSE')\n",
    "plt.title('GAN RMSE for Extreme Values')\n",
    "plt.show()"
   ]
  },
  {
   "cell_type": "code",
   "execution_count": 90,
   "metadata": {},
   "outputs": [
    {
     "data": {
      "image/png": "[encoded data removed]",
      "text/plain": [
       "<matplotlib.figure.Figure at 0x7f891981b588>"
      ]
     },
     "metadata": {},
     "output_type": "display_data"
    }
   ],
   "source": [
    "plt.imshow(final_rmse[0, :, :], cmap = 'hot')\n",
    "#plt.title('RMSE Map of Precipitation for GAN')\n",
    "plt.axis('off')\n",
    "plt.show()"
   ]
  },
  {
   "cell_type": "code",
   "execution_count": 92,
   "metadata": {},
   "outputs": [
    {
     "data": {
      "image/png": "[encoded data removed]",
      "text/plain": [
       "<matplotlib.figure.Figure at 0x7f89198cf9b0>"
      ]
     },
     "metadata": {},
     "output_type": "display_data"
    }
   ],
   "source": [
    "plt.imshow(final_rmse[1, :, :], cmap = 'hot')\n",
    "#plt.title('RMSE Map of Temperature for GAN')\n",
    "plt.axis('off')\n",
    "plt.show()"
   ]
  },
  {
   "cell_type": "code",
   "execution_count": null,
   "metadata": {},
   "outputs": [],
   "source": [
    "import csv\n",
    "\n",
    "with open('extreme_analysis_SRGAN.csv', 'w') as extreme_csv:\n",
    "    writer = csv.writer(extreme_csv)\n",
    "    writer.writerow(['Quantile', 'PrecipMean', 'PrecipVar', 'TempMean', 'TempVar'])\n",
    "    for i in range(len(extreme_quantiles)):\n",
    "        writer.writerow([extreme_quantiles[i]] + list(extreme_metrics[0,i,:]) + list(extreme_metrics[1,i,:]))"
   ]
  }
 ],
 "metadata": {
  "kernelspec": {
   "display_name": "Python 3",
   "language": "python",
   "name": "python3"
  },
  "language_info": {
   "codemirror_mode": {
    "name": "ipython",
    "version": 3
   },
   "file_extension": ".py",
   "mimetype": "text/x-python",
   "name": "python",
   "nbconvert_exporter": "python",
   "pygments_lexer": "ipython3",
   "version": "3.6.5"
  }
 },
 "nbformat": 4,
 "nbformat_minor": 2
}
